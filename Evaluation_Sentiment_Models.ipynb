{
  "nbformat": 4,
  "nbformat_minor": 0,
  "metadata": {
    "colab": {
      "name": "Evaluation_Sentiment_Models.ipynb",
      "provenance": []
    },
    "kernelspec": {
      "name": "python3",
      "display_name": "Python 3"
    },
    "language_info": {
      "name": "python"
    },
    "accelerator": "GPU"
  },
  "cells": [
    {
      "cell_type": "code",
      "execution_count": 1,
      "metadata": {
        "colab": {
          "base_uri": "https://localhost:8080/"
        },
        "id": "HYJC3TfHOqUs",
        "outputId": "97c009e4-554b-494e-ccbf-a66c2ddedc43"
      },
      "outputs": [
        {
          "output_type": "stream",
          "name": "stdout",
          "text": [
            "Mounted at /content/drive\n"
          ]
        }
      ],
      "source": [
        "from google.colab import drive\n",
        "drive.mount('/content/drive', force_remount=True)"
      ]
    },
    {
      "cell_type": "code",
      "source": [
        "!pip install -q -U \"tensorflow-text==2.8.*\"\n",
        "import tensorflow_text\n",
        "import tensorflow as tf"
      ],
      "metadata": {
        "colab": {
          "base_uri": "https://localhost:8080/"
        },
        "id": "vZj47NU6P3yh",
        "outputId": "af8429c8-8802-48bb-9e01-d6b042eaef40"
      },
      "execution_count": 2,
      "outputs": [
        {
          "output_type": "stream",
          "name": "stdout",
          "text": [
            "\u001b[K     |████████████████████████████████| 4.9 MB 8.7 MB/s \n",
            "\u001b[K     |████████████████████████████████| 462 kB 69.5 MB/s \n",
            "\u001b[?25h"
          ]
        }
      ]
    },
    {
      "cell_type": "code",
      "source": [
        "model_name = '7_epoch_complete_bert'\n",
        "drive_path = './drive/MyDrive/' + model_name"
      ],
      "metadata": {
        "id": "I53jFQLHTyBM"
      },
      "execution_count": 3,
      "outputs": []
    },
    {
      "cell_type": "code",
      "source": [
        "model_name1 = '7_epoch_bert'\n",
        "drive_path1 = './drive/MyDrive/' + model_name1\n",
        "model_old = tf.saved_model.load(drive_path1)\n"
      ],
      "metadata": {
        "id": "qgQAPP-Jdro-"
      },
      "execution_count": 4,
      "outputs": []
    },
    {
      "cell_type": "code",
      "source": [
        "tf.saved_model.LoadOptions(\n",
        "    allow_partial_checkpoint=False, experimental_io_device='/job:localhost',\n",
        "    experimental_skip_checkpoint=False\n",
        ")"
      ],
      "metadata": {
        "colab": {
          "base_uri": "https://localhost:8080/"
        },
        "id": "gxiI957RUP4f",
        "outputId": "098385c9-19b9-4d1c-a1ec-1cd474dcbf50"
      },
      "execution_count": 5,
      "outputs": [
        {
          "output_type": "execute_result",
          "data": {
            "text/plain": [
              "<tensorflow.python.saved_model.load_options.LoadOptions at 0x7f11f22b3aa0>"
            ]
          },
          "metadata": {},
          "execution_count": 5
        }
      ]
    },
    {
      "cell_type": "code",
      "source": [
        "model = tf.saved_model.load(drive_path)"
      ],
      "metadata": {
        "id": "XRlsdXUTP5Jv"
      },
      "execution_count": 6,
      "outputs": []
    },
    {
      "cell_type": "code",
      "source": [
        "import pandas as pd\n",
        "\n",
        "def read_file_pos_neg(file):\n",
        "  df = pd.read_csv(file)\n",
        "  df_list = df.values.tolist()\n",
        "\n",
        "  pos = []\n",
        "  neg = []\n",
        "\n",
        "  for i in df_list:\n",
        "    if i[0] == 'pos':\n",
        "      pos.append(i[1])\n",
        "    if i[0] == 'neg':\n",
        "      neg.append(i[1])\n",
        "    \n",
        "  return pos, neg"
      ],
      "metadata": {
        "id": "imayqgLbSxJJ"
      },
      "execution_count": 7,
      "outputs": []
    },
    {
      "cell_type": "code",
      "source": [
        "pos_valid, neg_valid = read_file_pos_neg(\"./drive/MyDrive/pos_valid.csv\")"
      ],
      "metadata": {
        "id": "T7JU0eVoSySg"
      },
      "execution_count": 8,
      "outputs": []
    },
    {
      "cell_type": "code",
      "source": [
        "pos_valid= []\n",
        "neg_valid= []"
      ],
      "metadata": {
        "id": "lPE_8x_E0sz6"
      },
      "execution_count": 9,
      "outputs": []
    },
    {
      "cell_type": "code",
      "source": [
        "df = pd.read_csv(\"./drive/MyDrive/pos_valid.csv\")\n",
        "pos_valid = df.values.tolist()\n",
        "len(pos_valid)"
      ],
      "metadata": {
        "colab": {
          "base_uri": "https://localhost:8080/"
        },
        "id": "A52Ml8qpw5te",
        "outputId": "0afbd91b-fcfd-4c36-a19c-bb564aedea1c"
      },
      "execution_count": 10,
      "outputs": [
        {
          "output_type": "execute_result",
          "data": {
            "text/plain": [
              "1114"
            ]
          },
          "metadata": {},
          "execution_count": 10
        }
      ]
    },
    {
      "cell_type": "code",
      "source": [
        "validation_set = []\n",
        "for i in pos_valid:\n",
        "  validation_set.append(i)\n",
        "\n",
        "for i in neg_valid:\n",
        "  validation_set.append(i)\n"
      ],
      "metadata": {
        "id": "o0oU47nBUUNu"
      },
      "execution_count": 31,
      "outputs": []
    },
    {
      "cell_type": "code",
      "source": [
        "len(validation_set)"
      ],
      "metadata": {
        "colab": {
          "base_uri": "https://localhost:8080/"
        },
        "id": "lseNt4ejCXEI",
        "outputId": "82edad3a-a66e-4c4f-e521-ae97d56401d9"
      },
      "execution_count": 32,
      "outputs": [
        {
          "output_type": "execute_result",
          "data": {
            "text/plain": [
              "1203"
            ]
          },
          "metadata": {},
          "execution_count": 32
        }
      ]
    },
    {
      "cell_type": "code",
      "source": [
        "validation_sentiment = []\n",
        "for i in pos_valid:\n",
        "  validation_sentiment.append([\"P\", i])\n",
        "\n",
        "for i in neg_valid:\n",
        "  validation_sentiment.append([\"N\", i])"
      ],
      "metadata": {
        "id": "nqE7fcApUWCI"
      },
      "execution_count": 33,
      "outputs": []
    },
    {
      "cell_type": "code",
      "source": [
        "def get_results(list_inps):\n",
        "  scores = tf.sigmoid(model(tf.constant(list_inps)))\n",
        "  results = (scores.numpy()[0][0])\n",
        "  return results"
      ],
      "metadata": {
        "id": "Hy8AF4GgUam9"
      },
      "execution_count": 34,
      "outputs": []
    },
    {
      "cell_type": "code",
      "source": [
        "def get_results_old(list_inps):\n",
        "  scores = tf.sigmoid(model_old(tf.constant(list_inps)))\n",
        "  results = (scores.numpy()[0][0])\n",
        "  return results"
      ],
      "metadata": {
        "id": "bza6dST9eCdi"
      },
      "execution_count": 35,
      "outputs": []
    },
    {
      "cell_type": "code",
      "source": [
        "get_results([\"Give better instructions to make the stint worker understand the intensity and also poor hygiene in cleaning, theyve given a hard worker 1 star for cleaning\"])"
      ],
      "metadata": {
        "colab": {
          "base_uri": "https://localhost:8080/"
        },
        "id": "o0Xu4f2A0Iyl",
        "outputId": "e839d085-653a-42d3-a2d6-83feb54d6727"
      },
      "execution_count": 70,
      "outputs": [
        {
          "output_type": "execute_result",
          "data": {
            "text/plain": [
              "0.019808564"
            ]
          },
          "metadata": {},
          "execution_count": 70
        }
      ]
    },
    {
      "cell_type": "code",
      "source": [
        "get_results_old([\"Give better instructions to make the stint worker understand the intensity and also poor hygiene in cleaning, theyve given a hard worker 1 star for cleaning\"])"
      ],
      "metadata": {
        "colab": {
          "base_uri": "https://localhost:8080/"
        },
        "id": "7UktT_IMeHLc",
        "outputId": "bdce520f-9ca7-4abc-d255-51b056de2eb9"
      },
      "execution_count": 71,
      "outputs": [
        {
          "output_type": "execute_result",
          "data": {
            "text/plain": [
              "0.9650419"
            ]
          },
          "metadata": {},
          "execution_count": 71
        }
      ]
    },
    {
      "cell_type": "code",
      "source": [
        "false_list = []\n",
        "\n",
        "corr = 0\n",
        "incorr = 0\n",
        "t = 0\n",
        "for i in validation_set:  \n",
        "  if get_results(i) < 0.5 :\n",
        "    false_list.append(validation_sentiment[t])\n",
        "  t += 1  \n",
        "\n",
        "  \n",
        "# acc = (corr/(corr+incorr)) * 100"
      ],
      "metadata": {
        "id": "B0K3LdoNu1ly"
      },
      "execution_count": 36,
      "outputs": []
    },
    {
      "cell_type": "code",
      "source": [
        "false_list_new = []\n",
        "\n",
        "corr = 0\n",
        "incorr = 0\n",
        "t = 0\n",
        "for i in validation_set:  \n",
        "  if get_results_old(i) >= 0.5 and validation_sentiment[t][0] == \"P\":\n",
        "    corr += 1\n",
        "  elif get_results_old(i) < 0.5 and validation_sentiment[t][0] == \"N\":\n",
        "    corr += 1\n",
        "  else:\n",
        "    incorr += 1\n",
        "    false_list_new.append(validation_sentiment[t])\n",
        "  t += 1  \n",
        "\n",
        "\n",
        "acc = (corr/(corr+incorr)) * 100"
      ],
      "metadata": {
        "id": "nuLKJOhMAA-A"
      },
      "execution_count": 48,
      "outputs": []
    },
    {
      "cell_type": "code",
      "source": [
        "false_list = []\n",
        "\n",
        "corr = 0\n",
        "incorr = 0\n",
        "t = 0\n",
        "for i in validation_set:  \n",
        "  if get_results(i) >= 0.5 and validation_sentiment[t][0] == \"P\":\n",
        "    corr += 1\n",
        "  elif get_results(i) < 0.5 and validation_sentiment[t][0] == \"N\":\n",
        "    corr += 1\n",
        "  else:\n",
        "    incorr += 1\n",
        "    false_list.append(validation_sentiment[t])\n",
        "  t += 1  \n",
        "\n",
        "\n",
        "accu = (corr/(corr+incorr)) * 100"
      ],
      "metadata": {
        "id": "EvWde0svUdOa"
      },
      "execution_count": 49,
      "outputs": []
    },
    {
      "cell_type": "code",
      "source": [
        "acc"
      ],
      "metadata": {
        "colab": {
          "base_uri": "https://localhost:8080/"
        },
        "id": "A-l-vlO8a1vG",
        "outputId": "164d25ba-6cb8-4658-f2e2-6c5d1abed1ec"
      },
      "execution_count": 50,
      "outputs": [
        {
          "output_type": "execute_result",
          "data": {
            "text/plain": [
              "95.76059850374065"
            ]
          },
          "metadata": {},
          "execution_count": 50
        }
      ]
    },
    {
      "cell_type": "code",
      "source": [
        "accu"
      ],
      "metadata": {
        "colab": {
          "base_uri": "https://localhost:8080/"
        },
        "id": "3mKniYgyBfvh",
        "outputId": "6d647eea-3365-43e7-fb21-204ac70a2c81"
      },
      "execution_count": 51,
      "outputs": [
        {
          "output_type": "execute_result",
          "data": {
            "text/plain": [
              "98.33748960931005"
            ]
          },
          "metadata": {},
          "execution_count": 51
        }
      ]
    },
    {
      "cell_type": "code",
      "source": [
        "(false_list_new)"
      ],
      "metadata": {
        "colab": {
          "base_uri": "https://localhost:8080/"
        },
        "id": "janntfGqVLVk",
        "outputId": "aaf7181f-d4e9-4412-e80f-b1255c83fea0"
      },
      "execution_count": 64,
      "outputs": [
        {
          "output_type": "execute_result",
          "data": {
            "text/plain": [
              "[['P',\n",
              "  ['Great people, would’ve been 5* but the staff toilets are a fire hazard; as once locked they cannot be unlocked from the outside.']],\n",
              " ['P', ['Staff was amazing and friendly but trays \\n are heavy']],\n",
              " ['P', ['Lovely staff, but job role wasnt clear']],\n",
              " ['P',\n",
              "  ['Wrong address given on Stint, should be updated to what’s on Google.']],\n",
              " ['P',\n",
              "  ['Nice staff, however they need to provide moisturiser/proper washing up gloves for the KP role! I am now suffering from contact dermatitis as a result of this stint.']],\n",
              " ['P', ['It would have been great if they provided ppe like gloves and efc']],\n",
              " ['P',\n",
              "  ['Good atmosphere but put me in charge of drinks which wasnt part of the description or something i was prepared for']],\n",
              " ['P',\n",
              "  ['There was alot of chicken bones around, which can be uncomfortable for vegans']],\n",
              " ['P', ['Staff have to pay for the food!Lol']],\n",
              " ['P', ['Too hectic and busy']],\n",
              " ['P',\n",
              "  ['Friendly staff just not much to do, was standing around for most it']],\n",
              " ['P', ['Friendly staff, however, the stint barcode wasnt working']],\n",
              " ['P', ['Really busy, I wonder if it’s really suitable for a stint']],\n",
              " ['P',\n",
              "  ['This task was fairly easy to manage, consdering id had know expeience hosting before. However, the establishment exepted more orders than they could handle, leading to long wait times and disgruntled customers.']],\n",
              " ['P', ['Tiring slighlty, menial tasks but not unexpected.']],\n",
              " ['P', ['Nice staff']],\n",
              " ['P', ['The best💕']],\n",
              " ['P', ['Staff were lovelt free food']],\n",
              " ['P', ['Still just the food waste i cant hack']],\n",
              " ['P', ['did washing up for three hours which did my back in a bit']],\n",
              " ['P', ['Nice staff']],\n",
              " ['P', ['all members are too friendly and helpful.']],\n",
              " ['P',\n",
              "  ['Lovely staff. Horrible food waste. The hotel could partner with shrub, a food bank, put it on too good to go or i would even happliy take those hash browns and dish them out. Also no recyling. We are living in climate emergency, we only have till 2030 to reduce our emissions by half to have a 50/50 chance of staying below a dangerous 2degrees celcius! Recyling really should be a given everywhere now, its embarrasing that places are so outdated and unattached from the pressing problem']],\n",
              " ['P', ['Nice staff, offered free soft drinks.']],\n",
              " ['P', ['They requested to have me back - i would like to work here again']],\n",
              " ['P',\n",
              "  ['Paula and the staffs were amazing and helpful and i only did easy jobs']],\n",
              " ['P',\n",
              "  ['Friendly but I was assigned the kitchen dishwasher instead of the job described (not an issue though)']],\n",
              " ['P', ['Excellent working vibe but the food given made me feel sick.']],\n",
              " ['P', ['Friendly staff\\nWould consider as a permanent job']],\n",
              " ['P', ['Good stuff']],\n",
              " ['P',\n",
              "  ['all good aside the water pressure - it was terrible and made it difficult to wash dishes and there were many many dishes to clean']],\n",
              " ['P', ['Other stints were largely unhelpful']],\n",
              " ['P', ['Tiring but good']],\n",
              " ['P', ['Everyone was beyond polite']],\n",
              " ['P', ['10/10 and got pizza after so like 11/10']],\n",
              " ['P',\n",
              "  ['Friendly staff and good atmosphere, enough to do that i wasnt bored but not rushed off my feet either']],\n",
              " ['P',\n",
              "  ['Kitchen staff were extremely friendly would be more than happy to go back']],\n",
              " ['N', ['Totally unfair ratings on staff, but amazing discounts.']],\n",
              " ['N', ['No air con']],\n",
              " ['N', ['Did not communicate with us at all']],\n",
              " ['N', ['Passive agressive']],\n",
              " ['N', ['dead']],\n",
              " ['N',\n",
              "  ['Give better instructions to make the stint worker understand the intensity and also poor hygiene in cleaning, theyve given a hard worker 1 star for cleaning']],\n",
              " ['N',\n",
              "  ['They didnt give me anything to do then got mad at me because i didnt know what to do']],\n",
              " ['N', ['Need to notify when cancelling']],\n",
              " ['N', ['Was not given adequate instructions']],\n",
              " ['N',\n",
              "  ['Was treated unprofessionally and tasks i was given was totally different to what was on the shift.']],\n",
              " ['N',\n",
              "  ['I arrived 10 mins early but they made me wait and checked me in more than 5 mins late']],\n",
              " ['N', ['Management not friendly']],\n",
              " ['N',\n",
              "  ['Worked non stop all night and received a three star review after staying an extra twenty minutes']],\n",
              " ['N',\n",
              "  ['They made me wear a uniform that smelt extremely badly and the hat was very dirty and smelly. I asked for a new cap and was told this is the only one they have and i didnt have a choice']]]"
            ]
          },
          "metadata": {},
          "execution_count": 64
        }
      ]
    },
    {
      "cell_type": "markdown",
      "source": [
        "7_epoch_albert\n",
        "*   S2B(N) : 94.62 acc\n",
        "*   S2B : 95.75 acc\n",
        "\n",
        "7_epoch_bert\n",
        "*   S2B(N) : 94.41 acc\n",
        "*   S2B : 95.95 acc\n",
        "\n",
        "\n"
      ],
      "metadata": {
        "id": "6QS0yUIWzCW4"
      }
    },
    {
      "cell_type": "code",
      "source": [
        "(false_list)"
      ],
      "metadata": {
        "colab": {
          "base_uri": "https://localhost:8080/"
        },
        "id": "n5oTzq05VOWV",
        "outputId": "88e06327-edc9-419d-bce5-d3e05fdb97e2"
      },
      "execution_count": 53,
      "outputs": [
        {
          "output_type": "execute_result",
          "data": {
            "text/plain": [
              "[['P',\n",
              "  ['Reached 15 minutes early, had to wait 20 mins because no escort came in time, mixed instructions from employees, not allowed a 5 minut break in a 5 hour shift, lots can be improved. My guide was very helpful (mendy)']],\n",
              " ['P', ['Everything is good but broken glass  cut my hand']],\n",
              " ['P',\n",
              "  ['Wrong address given on Stint, should be updated to what’s on Google.']],\n",
              " ['P',\n",
              "  ['There was alot of chicken bones around, which can be uncomfortable for vegans']],\n",
              " ['P', ['It was good but 6 hours work no break and no food.']],\n",
              " ['P',\n",
              "  ['This task was fairly easy to manage, consdering id had know expeience hosting before. However, the establishment exepted more orders than they could handle, leading to long wait times and disgruntled customers.']],\n",
              " ['P', ['Still just the food waste i cant hack']],\n",
              " ['P', ['did washing up for three hours which did my back in a bit']],\n",
              " ['P', ['all members are too friendly and helpful.']],\n",
              " ['P',\n",
              "  ['Lovely staff. Horrible food waste. The hotel could partner with shrub, a food bank, put it on too good to go or i would even happliy take those hash browns and dish them out. Also no recyling. We are living in climate emergency, we only have till 2030 to reduce our emissions by half to have a 50/50 chance of staying below a dangerous 2degrees celcius! Recyling really should be a given everywhere now, its embarrasing that places are so outdated and unattached from the pressing problem']],\n",
              " ['P', ['Other stints were largely unhelpful']],\n",
              " ['P', ['10/10 and got pizza after so like 11/10']],\n",
              " ['N', ['Totally unfair ratings on staff, but amazing discounts.']],\n",
              " ['N',\n",
              "  ['The listed stint role was completely different from the actual role I was suppose to do. Very fast pace environment and management is not great.']],\n",
              " ['N', ['Passive agressive']],\n",
              " ['N',\n",
              "  ['Dont know why they gave me a one star when i finished all the work they gave me promptly, this is my second time stinting here. They asked me to stay for slightly longer to help close up ie clean the walls of the kitchen which i was happy to do. I offered to help stack the trays etc as there was some left before i needed to leave but one worker said it was okay. For a vast majority of the stints I do I always get compliments about how i work and how clean i am when maintaining the kitchen. The review they gave me is outrageous.']],\n",
              " ['N',\n",
              "  ['Was treated unprofessionally and tasks i was given was totally different to what was on the shift.']],\n",
              " ['N',\n",
              "  ['Made us do tasks not part of the job description. However, I still did it without complaining with maximum effort. Staff were very unfriendly blaming faults on us Stinters when they were the ones that did it. For example, they placed a knife in a hazardous position and then said to us in front of their boss ‘guys don’t do this’. We did not complain and carried on working. If the company does not believe this, tell them to check the cameras and see that their staff placed the knife like this. This is one of many things that they came at fault with. There are many more I can list but it would be an exhausting paragraph. If a Stint staff member is reading this, I highly recommend you look into this company. I’m sure the other Stinters working with me today have had a terrible experience too. Apart from two occasions of getting 4 stars, I have always achieved 5 stars. This shows there is a big reason as to why this company has received 1 star from me. Absolutely terrible with no positives at all.']],\n",
              " ['N',\n",
              "  ['Lovely staff and fancy location but the job role is constant chaos with frequent interruptions to each job. Wont be returning thank you.']],\n",
              " ['N',\n",
              "  ['Worked non stop all night and received a three star review after staying an extra twenty minutes']]]"
            ]
          },
          "metadata": {},
          "execution_count": 53
        }
      ]
    },
    {
      "cell_type": "markdown",
      "source": [
        "Feedback with ambiguous sentiment:\n",
        "\n",
        "['P', 'Friendly guys, enough work to get on with but not too much to handle']\n",
        "\n",
        " ['P', 'Friendly snd nice staff']\n",
        "\n",
        " ['P', 'Good service and polite staff\\nWould be happy to work again']\n",
        "\n",
        " ['P', 'Just for ziggys singing']\n",
        "\n",
        " ['P', 'Listed wrong uniform']\n",
        "\n",
        " ['P', 'Nice friendly staff']\n",
        "\n",
        " ['P',\n",
        "  \"Proper washing up gloves would be better as normal gloves didn't stop my hands from getting wrinkles when washing up all day\"]\n",
        "\n",
        " ['P',\n",
        "  'Really good atmosphere. But working a 7 hour shift with the manager requesting me to work an additional 2 hours, i wouldve been happy to be given a short break.']\n",
        "\n",
        " ['P', 'Staff were lovelt free food']\n",
        "\n",
        " ['P',\n",
        "  'Staff were very friendly. Was clear from the start as to what I had to do']\n",
        "\n",
        " ['P', 'Still vibes']\n",
        "\n",
        " ['P', 'Wrong address given on Stint, should be updated to what’s on Google.']\n",
        "\n",
        " ['P', 'get shift, friendly staff']\n",
        "\n",
        " ['P', 'good but i wasnt really needed']\n",
        "\n",
        " ['P',\n",
        "  'the manager (i forgor her name im sorry) was an amazing help and so was the the asian lady (i forgot her name as well so so sorry). everyone was friendly though !!!']\n",
        "\n",
        " ['N',\n",
        "  \"1 star because i didn't sign up to be a runner, i sign up for washing dishes and changing bins. 2 stars for the extremely friendly kitchen staff.\"]\n",
        "\n",
        " ['N', 'Better customer service is needed']\n",
        "\n",
        " ['N', 'Demand is too much for low payment']\n",
        "\n",
        " ['N', 'Did not communicate with us at all']\n",
        "\n",
        " ['N',\n",
        "  'Didnt show me how to run the food and had a problem with it when i got it wrong first time, other than one staff member everyone was helpful and friendly']\n",
        "\n",
        " ['N',\n",
        "  'Entrance to the building itself takes 20 mins because of ‘security checks’. Besides food promised not given']\n",
        "\n",
        " ['N',\n",
        "  'Honestly the place itself was beautiful however, i feel as if a lot of things should have been mentioned before hand for example, the fact you must walk up many stairs with heavy trays that barely fit through the kitchen door was very hard and not only was it exhausting it was quite physically straining and if it was mentioned i most likely would never have taken the job. If im being brutally honest i was extremely disappointed to have to take the trays up and down the stairs with little breaks i was literally sweating and out of breath and felt as if i was going to pass out. Not only this i felt a lot of pressure to which i have never felt usually from doing any stints and it was so bad my nose actually started to bleed and a few staff members walked past me and didnt even ask if i was okay. I can say that overall this was a really off putting experience i totally understand its a fast paced industry but that was too much for me to handle and if it was too hard for me to handle imagine other students feeling the same. I feel as if the stairs and heavy lifting should be noted on stint for future students.']\n",
        "\n",
        " ['N',\n",
        "  'I washed dishes for hours straight with no gloves and no proper breaks, i believe the place was under staffed and duties were not spread equally']\n",
        "\n",
        " ['N',\n",
        "  'In this stint, the workload was too much;  three hours of non-stop washing dishes. No food was offered. Only water was given to me. People were ok.']\n",
        "\n",
        " ['N',\n",
        "  'It wasnt bad, staff was nice but find it rude that stints don’t get provided with a meal, especially since this is fastfood']\n",
        "\n",
        " ['N',\n",
        "  'Need to work on hygiene and explaining things thoroughly before the shift starts instead of being annoyed with every question']\n",
        "\n",
        " ['N', 'No meal provided at shift and was very busy place . Staff was nice .']\n",
        "\n",
        " ['N', 'Rude manager']\n",
        "\n",
        " ['N',\n",
        "  'Staff are not friendly and mature in dealing with issues regarding stints.']\n",
        "\n",
        " ['N',\n",
        "  'This place is lovely if maybe you do a bar back shift but the Commis is hard. The kitchen is in thr basement and it HOT, this shift should come with a fitness warning because you are constantly going up and down stairs (2 flights) whilst carrying heavy items. It is not easy at all']\n",
        "\n",
        " ['N', 'Too much work for a one person']\n",
        "\n",
        " ['N', 'Unclear communication']\n",
        " \n",
        " ['N', 'Unclear instructions and unfair rating']\n"
      ],
      "metadata": {
        "id": "6yl_EdeJ_2pP"
      }
    },
    {
      "cell_type": "markdown",
      "source": [
        " Possible negatives \n",
        " \n",
        " ['P', '10/10 and got pizza after so like 11/10'],\n",
        " ['P', 'Atmosphere is too great for working; people there are too nice'],\n",
        " ['P',\n",
        "  'Christian is a great manager running a tight efficient ship. Everyone was helpful and supportive when I was getting my feet offtheh'],\n",
        " ['P', 'Even got food offered after the stint'],\n",
        " ['P',\n",
        "  'Everyone is nice, but the work is quite demanding as the kitchen porter needs to run between 2 floors with trays of dishes for wash. It may not suitable for people that cannot carry heavy things.'],\n",
        " ['P', 'Everyone was beyond polite'],\n",
        " ['P', 'Excellent working vibe but the food given made me feel sick.'],\n",
        " ['P',\n",
        "  'Friendly but I was assigned the kitchen dishwasher instead of the job described (not an issue though)'],\n",
        " ['P',\n",
        "  'Friendly staff and good atmosphere, enough to do that i wasnt bored but not rushed off my feet either'],\n",
        " ['P',\n",
        "  'Friendly staff who are willing to help, nice atmosphere, good shift length. Would go back to work again.'],\n",
        " ['P',\n",
        "  'Friendly staff who made me feel confortable. I was given some complimentary food as well.'],\n",
        " ['P',\n",
        "  'Friendly staff. Details of stint were true to task. However alot of the stint was spent running'],\n",
        " ['P',\n",
        "  'Good stint, but needs a safer area to store bags as when i finished my bag had fallen down the back of the lockers'],\n",
        " ['P',\n",
        "  'Good stint, very friendly staff and a generally helpful environment! A bit more of an introduction to what to do might have been useful as I had to ask a lot of questions. Nobody who worked there, at the front desk or in F&B knew what Stint was or the process which meant I had to explain why I was there, which was not ideal.'],\n",
        " ['P', 'Good vibes only'],\n",
        " ['P',\n",
        "  'Great but if given some proper washing up gloves to use it would’ve been better'],\n",
        " ['P', 'Great staff, not much work'],\n",
        " ['P', 'Guys and gals were chill, bit hard to find on google.'],\n",
        " ['P', 'Had wrong location on the stint app'],\n",
        " ['P', 'I needed the cardio!'],\n",
        " ['P', 'I worked for an extra hour but it hasnt been added on yet'],\n",
        " ['P',\n",
        "  'Incredible experience. Did 2 shifts and would have done more. Very profesional and staff was very heplful'],\n",
        " ['P',\n",
        "  'Kitchen staff were extremely friendly would be more than happy to go back'],\n",
        " ['P', 'Lovely staff and managers :) heavy trays but its a good workout'],\n",
        " ['P', 'Lovely staff would go back'],\n",
        " ['P',\n",
        "  'Lovely staff. Horrible food waste. The hotel could partner with shrub, a food bank, put it on too good to go or i would even happliy take those hash browns and dish them out. Also no recyling. We are living in climate emergency, we only have till 2030 to reduce our emissions by half to have a 50/50 chance of staying below a dangerous 2degrees celcius! Recyling really should be a given everywhere now, its embarrasing that places are so outdated and unattached from the pressing problem'],\n",
        " ['P', 'Nice atmosphere, not very clear responsabilities.'],\n",
        " ['P', 'Nice staff, offered free soft drinks.'],\n",
        " ['P',\n",
        "  'Nice work environment but those stairs are brutal while carrying heavy trays!'],\n",
        " ['P', 'Other stints were largely unhelpful'],\n",
        " ['P', 'Past paced stint, staff are nice.'],\n",
        " ['P',\n",
        "  'Paula and the staffs were amazing and helpful and i only did easy jobs'],\n",
        " ['P',\n",
        "  'Putting 5 stars as usual, and stint, you know what i gonna say already 😂'],\n",
        " ['P',\n",
        "  'Ran like clockwork but the 3 hours flew by in an instant. Would actually consider doing longer shifts here if offered.'],\n",
        " ['P',\n",
        "  'Really nice girls, explained everything clearly, would be happy to come again'],\n",
        " ['P', 'Same views as my last shift here. Only positives to say'],\n",
        " ['P',\n",
        "  'Staff was very helpful so u bever felt lost. Everyone was very welcoming and willing to help. Highly recommend. However as the QR code area doesnt have service, it took me 25 minutes to sign in therefore it would be really helpful if the code was placed at reception where there’s good service. Thank you'],\n",
        " ['P', 'Staff were v nice and helpful.'],\n",
        " ['P', 'Still just the food waste i cant hack'],\n",
        " ['P',\n",
        "  'The staff are friendly, and the environment is good. However, the location on stint was wrong!'],\n",
        " ['P', 'They requested to have me back - i would like to work here again'],\n",
        " ['P',\n",
        "  'To whom it may concern, \\n\\nI would like to thank you for having me at Terra Terra. The staff were all extremely welcoming, friendly and kind. However, I would like to call attention to the treatment I received from your staff member called Cynthia. I did briefly mention it after my shift to one of the managers, however I could see that it was a very busy period, so I did not want to take too much of his time to explain the situation. I felt very victimised and bullied by Cynthia during my shift, from the beginning until the end. \\n\\n* One instance is when Cynthia informed me that there weren’t any drinking glasses at the terrace and followed this with a patronising comment along the lines of: “We do have customers you know?” I feel like this was quite unfair because nobody had yet told me that there weren’t any drinking glasses left. I did later start to get into the habit of looking to see which glasses or utensils were low on stock, however this being my first shift it did naturally take a bit of time for me to do this. This is just one of the many snarky comments Cynthia said to me throughout the shift, which made me feel extremely disheartened. I voiced this to her and said that I didn’t think the extra comments were necessary. \\n* This being my first shift, I made a few mistakes. I accidentally brought up unpolished glasses and asked Cynthia whether there was a possibility that I could polish them at the terrace. She replied with something like “No. You do know that this is a classy restaurant? We can’t polish upstairs. Why would you not polish it downstairs?” I deem this response to be unnecessarily depreciating because a simple comment like “No, please do it downstairs.” would have been enough for me to get the message. I feel like Cynthia did not try to understand or empathise with the fact that I was new and would naturally make a few mistakes. Her corrections were very critical in nature and greatly dispirited me. \\n* On another occasion during the shift, a worker voiced that the drinking glasses required a restock and Cynthia loudly said around me “Yeah, I’ve told her multiple times.” This made me feel extremely humiliated. \\n* Cynthia would also loudly sigh and roll her eyes if I sometimes did not initially comprehend the orders she was giving me or asked for her to repeat herself. I feel like she was very impatient with me and showed little support, especially considering that this was my first shift with Terra Terra. \\n* After telling Cynthia discretely that I thought she was being a bit rude to me, she came to the kitchen to speak to me. At this point I informed her that at the end of my shift I would speak with the manager regarding her behaviour towards me, thinking that perhaps this would allow her to reconsider her behaviour towards me for the rest of the evening. She replied in a threatening tone: “You do know that we give you ratings too?” and attempted to escalate the situation by trying to make me go to the manager there and then. She said something like “Let’s go to the manager then.” I did not want to go, firstly because I felt extremely intimidated, and most importantly because this would pause me from doing my work which is what I was hired for. After I said once “I do not wish to discuss this here.” as I considered it extremely unprofessional and classless to argue in front of the rest of the staff, she continued to try to pressure me to go to the manager with her. This made me feel threatened and very embarrassed because many members of the kitchen staff, who I did not personally know, were nearby.\\n* About half an hour later she said to me “When you want to speak to the manager let me know”. I replied saying that I would prefer to have a private conversation with the manager to which she replied something like “Why would you want to do that? You can say what you want to say around me.”  which I felt was disrespecting my decision. \\n\\nTo conclude, I feel like I couldn’t work and perform to the best of my ability by virtue of the constant discouragement, belittlement and discourteousness I was subject to by Cynthia. I felt extremely bullied and her behaviour put me under a lot more stress than what I was already under by being at a new workplace during the very busy and hectic Saturday evening. \\n\\nI wish to end this feedback on a positive note. It is important for me to stress that the rest of your staff were extremely positive, courteous and helpful, and their good nature has meant that this has otherwise been my favourite stint to date. I again thank you for having me at Terra Terra.\\n\\nKind regards, \\n\\nMaria-Magdalena Jurga'],\n",
        " ['P', 'Welcoming staff but not much for me to do'],\n",
        " ['P',\n",
        "  'all good aside the water pressure - it was terrible and made it difficult to wash dishes and there were many many dishes to clean'],\n",
        " ['P', 'all members are too friendly and helpful.'],\n",
        " ['P', 'did washing up for three hours which did my back in a bit'],\n",
        " ['P', 'dope place to work'],\n",
        " ['P',\n",
        "  'great place allowed me to wear shorts when i was warm. however they could have given me a better sponge to wash stuff'],\n",
        " ['P',\n",
        "  'heard the manager calling us fucking idiots on our way our because i was texting my mum to let her know i finished work, all the other staff were fine']"
      ],
      "metadata": {
        "id": "reBLJXcqq0V7"
      }
    }
  ]
}